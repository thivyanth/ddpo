{
 "cells": [
  {
   "cell_type": "code",
   "execution_count": 1,
   "metadata": {},
   "outputs": [],
   "source": [
    "import json\n",
    "\n",
    "# Load the JSON file\n",
    "with open('ddpo_pytorch/assets/dataset_rsicd.json', 'r') as f:\n",
    "    data = json.load(f)\n",
    "\n",
    "# Extract the \"raw\" values\n",
    "raw_sentences = []\n",
    "for image in data['images']:\n",
    "    for sentence in image['sentences']:\n",
    "        raw_sentences.append(sentence['raw'])\n",
    "\n",
    "# Write the raw sentences to a text file\n",
    "with open('ddpo_pytorch/assets/output.txt', 'w') as f:\n",
    "    for sentence in raw_sentences:\n",
    "        f.write(sentence + '\\n')\n"
   ]
  },
  {
   "cell_type": "code",
   "execution_count": 3,
   "metadata": {},
   "outputs": [],
   "source": [
    "# Read the input text file\n",
    "with open('ddpo_pytorch/assets/output.txt', 'r') as file:\n",
    "    lines = file.readlines()\n",
    "\n",
    "# Remove successive duplicate lines\n",
    "unique_lines = []\n",
    "previous_line = None\n",
    "for line in lines:\n",
    "    if line != previous_line:\n",
    "        unique_lines.append(line)\n",
    "    previous_line = line\n",
    "\n",
    "# Write the result to an output text file\n",
    "with open('ddpo_pytorch/assets/RSICD.txt', 'w') as file:\n",
    "    file.writelines(unique_lines)\n"
   ]
  },
  {
   "cell_type": "code",
   "execution_count": 4,
   "metadata": {},
   "outputs": [],
   "source": [
    "# Read the input text file\n",
    "with open('ddpo_pytorch/assets/RSICD.txt', 'r') as file:\n",
    "    lines = file.readlines()\n",
    "\n",
    "# Process each line\n",
    "processed_lines = []\n",
    "for line in lines:\n",
    "    line = line.rstrip('satellite image of ')  # Remove 'satellite image of ' at the start of the line if it exists\n",
    "    line = \"\" + line  # Add the desired prefix\n",
    "    processed_lines.append(line + '')  # Add newline character at the end\n",
    "\n",
    "# Write the result to an output text file\n",
    "with open('ddpo_pytorch/assets/output.txt', 'w') as file:\n",
    "    file.writelines(processed_lines)\n"
   ]
  },
  {
   "cell_type": "code",
   "execution_count": 1,
   "metadata": {},
   "outputs": [
    {
     "name": "stdout",
     "output_type": "stream",
     "text": [
      "PDF created successfully: latest_run.pdf\n"
     ]
    }
   ],
   "source": [
    "from fpdf import FPDF\n",
    "import os\n",
    "\n",
    "# Create instance of FPDF class\n",
    "pdf = FPDF()\n",
    "\n",
    "# Specify the directory containing images\n",
    "directory = 'wandb/latest-run/files/media/images'\n",
    "\n",
    "# List all files in the directory\n",
    "files = os.listdir(directory)\n",
    "\n",
    "# Sort files to maintain any order, if required\n",
    "files.sort()\n",
    "\n",
    "# Add each image to the PDF\n",
    "for filename in files:\n",
    "    if filename.endswith('.jpg'):\n",
    "        pdf.add_page()\n",
    "        # Full path to the image\n",
    "        image_path = os.path.join(directory, filename)\n",
    "        # Add image to PDF, adjust dimensions as needed\n",
    "        pdf.image(image_path, x=10, y=8, w=190)\n",
    "\n",
    "# Save the pdf with name .pdf\n",
    "pdf_output = 'latest_run.pdf'\n",
    "pdf.output(pdf_output)\n",
    "\n",
    "print(f\"PDF created successfully: {pdf_output}\")\n"
   ]
  }
 ],
 "metadata": {
  "kernelspec": {
   "display_name": "ddpo",
   "language": "python",
   "name": "python3"
  },
  "language_info": {
   "codemirror_mode": {
    "name": "ipython",
    "version": 3
   },
   "file_extension": ".py",
   "mimetype": "text/x-python",
   "name": "python",
   "nbconvert_exporter": "python",
   "pygments_lexer": "ipython3",
   "version": "3.10.14"
  }
 },
 "nbformat": 4,
 "nbformat_minor": 2
}
